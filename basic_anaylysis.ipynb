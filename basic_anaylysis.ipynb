{
 "cells": [
  {
   "cell_type": "code",
   "execution_count": 3,
   "id": "d5d8153f",
   "metadata": {},
   "outputs": [],
   "source": [
    "import numpy as np\n",
    "import pandas as pd\n",
    "import matplotlib.pyplot as plt\n",
    "import seaborn as sns"
   ]
  },
  {
   "cell_type": "code",
   "execution_count": 4,
   "id": "0ac43cc0",
   "metadata": {},
   "outputs": [],
   "source": [
    "df = pd.read_csv('./data/bouy_data_daily.csv')"
   ]
  },
  {
   "cell_type": "code",
   "execution_count": 5,
   "id": "586fe2fd",
   "metadata": {},
   "outputs": [
    {
     "data": {
      "text/html": [
       "<div>\n",
       "<style scoped>\n",
       "    .dataframe tbody tr th:only-of-type {\n",
       "        vertical-align: middle;\n",
       "    }\n",
       "\n",
       "    .dataframe tbody tr th {\n",
       "        vertical-align: top;\n",
       "    }\n",
       "\n",
       "    .dataframe thead th {\n",
       "        text-align: right;\n",
       "    }\n",
       "</style>\n",
       "<table border=\"1\" class=\"dataframe\">\n",
       "  <thead>\n",
       "    <tr style=\"text-align: right;\">\n",
       "      <th></th>\n",
       "      <th>date</th>\n",
       "      <th>station_id</th>\n",
       "      <th>callsign</th>\n",
       "      <th>longitude</th>\n",
       "      <th>latitude</th>\n",
       "      <th>time</th>\n",
       "      <th>atmosphericpressure</th>\n",
       "      <th>winddirection</th>\n",
       "      <th>windspeed</th>\n",
       "      <th>gust</th>\n",
       "      <th>...</th>\n",
       "      <th>hmax</th>\n",
       "      <th>airtemperature</th>\n",
       "      <th>dewpoint</th>\n",
       "      <th>seatemperature</th>\n",
       "      <th>salinity</th>\n",
       "      <th>relativehumidity</th>\n",
       "      <th>sprtp</th>\n",
       "      <th>thtp</th>\n",
       "      <th>tp</th>\n",
       "      <th>qc_flag</th>\n",
       "    </tr>\n",
       "  </thead>\n",
       "  <tbody>\n",
       "    <tr>\n",
       "      <th>0</th>\n",
       "      <td>2001-02-06</td>\n",
       "      <td>M1</td>\n",
       "      <td>62090.0</td>\n",
       "      <td>-11.2</td>\n",
       "      <td>53.1266</td>\n",
       "      <td>2001-02-06T18:00:00Z</td>\n",
       "      <td>975.577778</td>\n",
       "      <td>278.888889</td>\n",
       "      <td>14.785556</td>\n",
       "      <td>23.344444</td>\n",
       "      <td>...</td>\n",
       "      <td>NaN</td>\n",
       "      <td>8.600000</td>\n",
       "      <td>NaN</td>\n",
       "      <td>9.000000</td>\n",
       "      <td>NaN</td>\n",
       "      <td>NaN</td>\n",
       "      <td>NaN</td>\n",
       "      <td>NaN</td>\n",
       "      <td>NaN</td>\n",
       "      <td>1.0</td>\n",
       "    </tr>\n",
       "    <tr>\n",
       "      <th>1</th>\n",
       "      <td>2001-02-07</td>\n",
       "      <td>M1</td>\n",
       "      <td>62090.0</td>\n",
       "      <td>-11.2</td>\n",
       "      <td>53.1266</td>\n",
       "      <td>2001-02-07T12:03:09Z</td>\n",
       "      <td>991.831579</td>\n",
       "      <td>78.421053</td>\n",
       "      <td>15.666316</td>\n",
       "      <td>24.673684</td>\n",
       "      <td>...</td>\n",
       "      <td>NaN</td>\n",
       "      <td>7.184211</td>\n",
       "      <td>NaN</td>\n",
       "      <td>9.036842</td>\n",
       "      <td>NaN</td>\n",
       "      <td>NaN</td>\n",
       "      <td>NaN</td>\n",
       "      <td>NaN</td>\n",
       "      <td>NaN</td>\n",
       "      <td>1.0</td>\n",
       "    </tr>\n",
       "    <tr>\n",
       "      <th>2</th>\n",
       "      <td>2001-02-08</td>\n",
       "      <td>M1</td>\n",
       "      <td>62090.0</td>\n",
       "      <td>-11.2</td>\n",
       "      <td>53.1266</td>\n",
       "      <td>2001-02-08T11:32:43Z</td>\n",
       "      <td>1007.309091</td>\n",
       "      <td>220.952381</td>\n",
       "      <td>8.689524</td>\n",
       "      <td>15.318182</td>\n",
       "      <td>...</td>\n",
       "      <td>NaN</td>\n",
       "      <td>6.013636</td>\n",
       "      <td>NaN</td>\n",
       "      <td>9.027273</td>\n",
       "      <td>NaN</td>\n",
       "      <td>NaN</td>\n",
       "      <td>NaN</td>\n",
       "      <td>NaN</td>\n",
       "      <td>NaN</td>\n",
       "      <td>1.0</td>\n",
       "    </tr>\n",
       "    <tr>\n",
       "      <th>3</th>\n",
       "      <td>2001-02-09</td>\n",
       "      <td>M1</td>\n",
       "      <td>62090.0</td>\n",
       "      <td>-11.2</td>\n",
       "      <td>53.1266</td>\n",
       "      <td>2001-02-09T14:17:08Z</td>\n",
       "      <td>1008.685714</td>\n",
       "      <td>165.714286</td>\n",
       "      <td>25.542857</td>\n",
       "      <td>35.707143</td>\n",
       "      <td>...</td>\n",
       "      <td>NaN</td>\n",
       "      <td>8.000000</td>\n",
       "      <td>NaN</td>\n",
       "      <td>9.042857</td>\n",
       "      <td>NaN</td>\n",
       "      <td>NaN</td>\n",
       "      <td>NaN</td>\n",
       "      <td>NaN</td>\n",
       "      <td>NaN</td>\n",
       "      <td>1.0</td>\n",
       "    </tr>\n",
       "    <tr>\n",
       "      <th>4</th>\n",
       "      <td>2001-02-10</td>\n",
       "      <td>M1</td>\n",
       "      <td>62090.0</td>\n",
       "      <td>-11.2</td>\n",
       "      <td>53.1266</td>\n",
       "      <td>2001-02-10T11:30:00Z</td>\n",
       "      <td>1004.170000</td>\n",
       "      <td>199.000000</td>\n",
       "      <td>19.357500</td>\n",
       "      <td>27.915000</td>\n",
       "      <td>...</td>\n",
       "      <td>NaN</td>\n",
       "      <td>10.560000</td>\n",
       "      <td>NaN</td>\n",
       "      <td>9.030000</td>\n",
       "      <td>NaN</td>\n",
       "      <td>NaN</td>\n",
       "      <td>NaN</td>\n",
       "      <td>NaN</td>\n",
       "      <td>NaN</td>\n",
       "      <td>1.0</td>\n",
       "    </tr>\n",
       "  </tbody>\n",
       "</table>\n",
       "<p>5 rows × 23 columns</p>\n",
       "</div>"
      ],
      "text/plain": [
       "         date station_id  callsign  longitude  latitude                  time  \\\n",
       "0  2001-02-06         M1   62090.0      -11.2   53.1266  2001-02-06T18:00:00Z   \n",
       "1  2001-02-07         M1   62090.0      -11.2   53.1266  2001-02-07T12:03:09Z   \n",
       "2  2001-02-08         M1   62090.0      -11.2   53.1266  2001-02-08T11:32:43Z   \n",
       "3  2001-02-09         M1   62090.0      -11.2   53.1266  2001-02-09T14:17:08Z   \n",
       "4  2001-02-10         M1   62090.0      -11.2   53.1266  2001-02-10T11:30:00Z   \n",
       "\n",
       "   atmosphericpressure  winddirection  windspeed       gust  ...  hmax  \\\n",
       "0           975.577778     278.888889  14.785556  23.344444  ...   NaN   \n",
       "1           991.831579      78.421053  15.666316  24.673684  ...   NaN   \n",
       "2          1007.309091     220.952381   8.689524  15.318182  ...   NaN   \n",
       "3          1008.685714     165.714286  25.542857  35.707143  ...   NaN   \n",
       "4          1004.170000     199.000000  19.357500  27.915000  ...   NaN   \n",
       "\n",
       "   airtemperature  dewpoint  seatemperature  salinity  relativehumidity  \\\n",
       "0        8.600000       NaN        9.000000       NaN               NaN   \n",
       "1        7.184211       NaN        9.036842       NaN               NaN   \n",
       "2        6.013636       NaN        9.027273       NaN               NaN   \n",
       "3        8.000000       NaN        9.042857       NaN               NaN   \n",
       "4       10.560000       NaN        9.030000       NaN               NaN   \n",
       "\n",
       "   sprtp  thtp  tp  qc_flag  \n",
       "0    NaN   NaN NaN      1.0  \n",
       "1    NaN   NaN NaN      1.0  \n",
       "2    NaN   NaN NaN      1.0  \n",
       "3    NaN   NaN NaN      1.0  \n",
       "4    NaN   NaN NaN      1.0  \n",
       "\n",
       "[5 rows x 23 columns]"
      ]
     },
     "execution_count": 5,
     "metadata": {},
     "output_type": "execute_result"
    }
   ],
   "source": [
    "df.head()"
   ]
  },
  {
   "cell_type": "code",
   "execution_count": 6,
   "id": "5c5cf25d",
   "metadata": {},
   "outputs": [
    {
     "data": {
      "text/plain": [
       "<AxesSubplot:>"
      ]
     },
     "execution_count": 6,
     "metadata": {},
     "output_type": "execute_result"
    },
    {
     "data": {
      "image/png": "[encoded data removed]",
      "text/plain": [
       "<Figure size 432x288 with 1 Axes>"
      ]
     },
     "metadata": {
      "needs_background": "light"
     },
     "output_type": "display_data"
    }
   ],
   "source": [
    "sns.heatmap(df.isnull(), cbar=False)"
   ]
  },
  {
   "cell_type": "code",
   "execution_count": 7,
   "id": "93cb8041",
   "metadata": {},
   "outputs": [
    {
     "data": {
      "text/plain": [
       "<AxesSubplot:xlabel='date'>"
      ]
     },
     "execution_count": 7,
     "metadata": {},
     "output_type": "execute_result"
    },
    {
     "data": {
      "image/png": "[encoded data removed]",
      "text/plain": [
       "<Figure size 432x288 with 1 Axes>"
      ]
     },
     "metadata": {
      "needs_background": "light"
     },
     "output_type": "display_data"
    }
   ],
   "source": [
    "df.plot(x='date', y='airtemperature')"
   ]
  },
  {
   "cell_type": "code",
   "execution_count": 9,
   "id": "0fa3e36e",
   "metadata": {},
   "outputs": [
    {
     "data": {
      "text/plain": [
       "'2021-09-10'"
      ]
     },
     "execution_count": 9,
     "metadata": {},
     "output_type": "execute_result"
    }
   ],
   "source": [
    "max(df['date'])"
   ]
  },
  {
   "cell_type": "code",
   "execution_count": null,
   "id": "b819220d",
   "metadata": {},
   "outputs": [],
   "source": []
  }
 ],
 "metadata": {
  "kernelspec": {
   "display_name": "minf",
   "language": "python",
   "name": "base"
  },
  "language_info": {
   "codemirror_mode": {
    "name": "ipython",
    "version": 3
   },
   "file_extension": ".py",
   "mimetype": "text/x-python",
   "name": "python",
   "nbconvert_exporter": "python",
   "pygments_lexer": "ipython3",
   "version": "3.9.7"
  }
 },
 "nbformat": 4,
 "nbformat_minor": 5
}
